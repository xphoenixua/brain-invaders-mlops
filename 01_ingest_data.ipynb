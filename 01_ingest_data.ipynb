{
 "cells": [
  {
   "cell_type": "code",
   "execution_count": 0,
   "metadata": {
    "application/vnd.databricks.v1+cell": {
     "cellMetadata": {},
     "inputWidgets": {},
     "nuid": "c27e9f3d-99d3-4ba2-b673-ecc085b613d7",
     "showTitle": false,
     "tableResultSettingsMap": {},
     "title": ""
    }
   },
   "outputs": [],
   "source": [
    "import os\n",
    "import shutil\n",
    "\n",
    "# configuration\n",
    "landing_zone_path = dbutils.widgets.get(\"landing_zone_path\")\n",
    "raw_data_path = dbutils.widgets.get(\"raw_data_path\")\n",
    "BATCH_SIZE = int(dbutils.widgets.get(\"batch_size\"))\n",
    "\n",
    "display(f\"checking for new files in landing zone: {landing_zone_path}\")\n",
    "os.makedirs(raw_data_path, exist_ok=True)\n",
    "\n",
    "# list all available files in the landing zone\n",
    "files_in_landing_zone = [f for f in os.listdir(landing_zone_path) if os.path.isfile(os.path.join(landing_zone_path, f))]\n",
    "if not files_in_landing_zone:\n",
    "    display(\"no new files found in the landing zone.\")\n",
    "    dbutils.notebook.exit(\"no new files to ingest.\")\n",
    "\n",
    "files_in_raw = set(os.listdir(raw_data_path))\n",
    "new_files = [f for f in files_in_landing_zone if f not in files_in_raw]\n",
    "\n",
    "# select a batch of files to process\n",
    "files_to_ingest = new_files[:BATCH_SIZE]\n",
    "display(f\"found {len(files_in_landing_zone)} files. ingesting a batch of {len(files_to_ingest)}.\")\n",
    "\n",
    "for file_name in files_to_ingest:\n",
    "    source_path = os.path.join(landing_zone_path, file_name)\n",
    "    destination_path = os.path.join(raw_data_path, file_name)\n",
    "    \n",
    "    display(f\"  moving {source_path} to {destination_path}\")\n",
    "    shutil.copy(source_path, destination_path) # so that it stays in the landing zone for next runs\n",
    "    \n",
    "display(f\"\\ningestion complete. {len(files_to_ingest)} files moved to raw data directory.\")\n"
   ]
  }
 ],
 "metadata": {
  "application/vnd.databricks.v1+notebook": {
   "computePreferences": null,
   "dashboards": [],
   "environmentMetadata": {
    "base_environment": "",
    "environment_version": "2"
   },
   "inputWidgetPreferences": null,
   "language": "python",
   "notebookMetadata": {
    "pythonIndentUnit": 4
   },
   "notebookName": "01_ingest_data",
   "widgets": {}
  },
  "language_info": {
   "name": "python"
  }
 },
 "nbformat": 4,
 "nbformat_minor": 0
}
