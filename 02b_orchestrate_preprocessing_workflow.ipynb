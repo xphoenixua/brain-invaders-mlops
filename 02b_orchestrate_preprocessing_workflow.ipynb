{
 "cells": [
  {
   "cell_type": "code",
   "execution_count": 0,
   "metadata": {
    "application/vnd.databricks.v1+cell": {
     "cellMetadata": {},
     "inputWidgets": {},
     "nuid": "1305d5fb-b84e-45be-98d0-0626ba871d71",
     "showTitle": false,
     "tableResultSettingsMap": {},
     "title": ""
    }
   },
   "outputs": [],
   "source": [
    "# configuration\n",
    "import os\n",
    "raw_data_path = dbutils.widgets.get(\"raw_data_path\")\n",
    "processed_features_path = dbutils.widgets.get(\"processed_features_path\")\n",
    "BATCH_SIZE = int(dbutils.widgets.get(\"batch_size\"))\n",
    "\n",
    "os.makedirs(processed_features_path, exist_ok=True)\n",
    "\n",
    "# identify which subjects need to be processed\n",
    "raw_files = [f for f in os.listdir(raw_data_path) if f.endswith(\".parquet\")]\n",
    "available_subject_ids = {f.split(\"_\")[1] for f in raw_files}\n",
    "\n",
    "processed_folders = [d for d in os.listdir(processed_features_path)]\n",
    "processed_subject_ids = {d for d in processed_folders}\n",
    "\n",
    "subjects_to_process = sorted(list(available_subject_ids - processed_subject_ids))\n",
    "\n",
    "display(f\"Found {len(subjects_to_process)} subjects to process.\")\n",
    "\n",
    "\n",
    "# now take a batch and trigger the processing notebook for each\n",
    "subjects_for_this_run = subjects_to_process[:BATCH_SIZE]\n",
    "display(f\"Processing batch of {len(subjects_for_this_run)} subjects: {subjects_for_this_run}\")\n",
    "\n",
    "for sub_id in subjects_for_this_run:\n",
    "    display(f\"--- Triggering job for subject {sub_id} ---\")\n",
    "    try:\n",
    "        # runs the other notebook as a sub-job\n",
    "        dbutils.notebook.run(\n",
    "            path=\"./02a_process_single_subject\",\n",
    "            timeout_seconds=0,\n",
    "            arguments={\"subject_id\": sub_id,\n",
    "                       \"raw_data_path\": raw_data_path,\n",
    "                       \"processed_features_path\": processed_features_path}\n",
    "        )\n",
    "        display(f\"--- Job for subject {sub_id} completed successfully ---\")\n",
    "    except Exception as e:\n",
    "        display(f\"--- Job for subject {sub_id} FAILED: {e} ---\")"
   ]
  }
 ],
 "metadata": {
  "application/vnd.databricks.v1+notebook": {
   "computePreferences": null,
   "dashboards": [],
   "environmentMetadata": {
    "base_environment": "",
    "environment_version": "2"
   },
   "inputWidgetPreferences": null,
   "language": "python",
   "notebookMetadata": {
    "pythonIndentUnit": 4
   },
   "notebookName": "02b_orchestrate_preprocessing_workflow",
   "widgets": {}
  },
  "language_info": {
   "name": "python"
  }
 },
 "nbformat": 4,
 "nbformat_minor": 0
}
