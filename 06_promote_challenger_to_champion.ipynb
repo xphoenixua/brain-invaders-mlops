{
 "cells": [
  {
   "cell_type": "code",
   "execution_count": 0,
   "metadata": {
    "application/vnd.databricks.v1+cell": {
     "cellMetadata": {
      "byteLimit": 2048000,
      "rowLimit": 10000
     },
     "inputWidgets": {},
     "nuid": "13bfc96d-7cb2-4231-91bf-1610146318e3",
     "showTitle": false,
     "tableResultSettingsMap": {},
     "title": ""
    }
   },
   "outputs": [],
   "source": [
    "import requests\n",
    "import json\n",
    "import mlflow\n",
    "import time\n",
    "\n",
    "\n",
    "# --- define and get notebook widgets for configuration ---\n",
    "dbutils.widgets.text(\"serving_endpoint_name\", \"p300\", \"Name of the Serving Endpoint\")\n",
    "dbutils.widgets.text(\"registered_model_name\", \"P300-Classifier\", \"Workspace Registered Model Name\")\n",
    "\n",
    "# get widget values\n",
    "serving_endpoint_name = dbutils.widgets.get(\"serving_endpoint_name\")\n",
    "registered_model_name = dbutils.widgets.get(\"registered_model_name\")\n",
    "challenger_entity_name = \"challenger\"\n",
    "champion_entity_name = \"champion\""
   ]
  },
  {
   "cell_type": "code",
   "execution_count": 0,
   "metadata": {
    "application/vnd.databricks.v1+cell": {
     "cellMetadata": {
      "byteLimit": 2048000,
      "rowLimit": 10000
     },
     "inputWidgets": {},
     "nuid": "df7db1d2-c9eb-4076-9a63-05260e7ba0ea",
     "showTitle": false,
     "tableResultSettingsMap": {},
     "title": ""
    }
   },
   "outputs": [],
   "source": [
    "# --- configure API clients ---\n",
    "databricks_host = dbutils.notebook.entry_point.getDbutils().notebook().getContext().apiUrl().get()\n",
    "databricks_token = dbutils.notebook.entry_point.getDbutils().notebook().getContext().apiToken().get()\n",
    "headers = {\"Authorization\": f\"Bearer {databricks_token}\", \"Content-Type\": \"application/json\"}\n",
    "\n",
    "mlflow.set_registry_uri(\"databricks\")\n",
    "mlflow_client = mlflow.tracking.MlflowClient()"
   ]
  },
  {
   "cell_type": "code",
   "execution_count": 0,
   "metadata": {
    "application/vnd.databricks.v1+cell": {
     "cellMetadata": {
      "byteLimit": 2048000,
      "rowLimit": 10000
     },
     "inputWidgets": {},
     "nuid": "74e5746e-74d3-400f-b764-327cedfa3221",
     "showTitle": false,
     "tableResultSettingsMap": {},
     "title": ""
    }
   },
   "outputs": [],
   "source": [
    "# --- step 1: identify challenger and current champion models ---\n",
    "challenger_to_promote = None\n",
    "current_champion = None\n",
    "\n",
    "# get latest version in staging (our challenger)\n",
    "staging_versions = mlflow_client.get_latest_versions(name=registered_model_name, stages=[\"Staging\"])\n",
    "if not staging_versions:\n",
    "    dbutils.notebook.exit(f\"no model version found in 'Staging' for '{registered_model_name}'. nothing to promote.\")\n",
    "challenger_to_promote = staging_versions[0]\n",
    "print(f\"found challenger to promote: Version {challenger_to_promote.version} (from Run ID: {challenger_to_promote.run_id})\")\n",
    "\n",
    "# get latest version in production (our current champion)\n",
    "production_versions = mlflow_client.get_latest_versions(name=registered_model_name, stages=[\"Production\"])\n",
    "if production_versions:\n",
    "    current_champion = production_versions[0]\n",
    "    print(f\"found current champion: Version {current_champion.version} (from Run ID: {current_champion.run_id})\")\n",
    "else:\n",
    "    print(\"no model is currently in 'Production' stage. proceeding with first promotion.\")\n",
    "    \n",
    "\n",
    "# --- step 2: check if promotion is redundant ---\n",
    "if current_champion and challenger_to_promote.run_id == current_champion.run_id:\n",
    "    dbutils.notebook.exit(f\"promotion skipped. the model from run ID '{challenger_to_promote.run_id}' is already the champion.\")\n",
    "\n",
    "\n",
    "# --- step 3: transition the model stage in the MLflow registry ---\n",
    "print(f\"promoting version {challenger_to_promote.version} to the 'Production' stage...\")\n",
    "mlflow_client.transition_model_version_stage(\n",
    "    name=registered_model_name,\n",
    "    version=challenger_to_promote.version,\n",
    "    stage=\"Production\",\n",
    "    archive_existing_versions=True\n",
    ")\n",
    "print(\"model stage successfully transitioned in the registry.\")"
   ]
  },
  {
   "cell_type": "code",
   "execution_count": 0,
   "metadata": {
    "application/vnd.databricks.v1+cell": {
     "cellMetadata": {
      "byteLimit": 2048000,
      "rowLimit": 10000
     },
     "inputWidgets": {},
     "nuid": "a89c6a91-32fd-454d-824a-08a5952b8c45",
     "showTitle": false,
     "tableResultSettingsMap": {},
     "title": ""
    }
   },
   "outputs": [],
   "source": [
    "# --- step 4: update the serving endpoint to serve the new champion ---\n",
    "print(f\"updating serving endpoint '{serving_endpoint_name}' to serve the new champion...\")\n",
    "\n",
    "# get the current endpoint configuration\n",
    "endpoint_get_url = f\"{databricks_host}/api/2.0/serving-endpoints/{serving_endpoint_name}\"\n",
    "response = requests.get(endpoint_get_url, headers=headers)\n",
    "response.raise_for_status()\n",
    "\n",
    "endpoint_config = response.json()\n",
    "current_config = endpoint_config.get(\"config\", {})\n",
    "served_entities = current_config.get(\"served_entities\", [])\n",
    "traffic_config = current_config.get(\"traffic_config\", {})\n",
    "\n",
    "\n",
    "# find the champion entity and update its version\n",
    "found_champion_entity = False\n",
    "for entity in served_entities:\n",
    "    if entity.get('name') == champion_entity_name:\n",
    "        entity['entity_version'] = challenger_to_promote.version\n",
    "        found_champion_entity = True\n",
    "        print(f\"champion entity will be updated to serve version {challenger_to_promote.version}.\")\n",
    "        break\n",
    "\n",
    "if not found_champion_entity:\n",
    "    dbutils.notebook.exit(f\"could not find a served entity named '{champion_entity_name}' to update.\")\n",
    "\n",
    "# construct the update payload and send the request\n",
    "update_payload = {\"served_entities\": served_entities, \"traffic_config\": traffic_config}\n",
    "endpoint_config_url = f\"{databricks_host}/api/2.0/serving-endpoints/{serving_endpoint_name}/config\"\n",
    "\n",
    "update_response = requests.put(endpoint_config_url, headers=headers, data=json.dumps(update_payload))\n",
    "update_response.raise_for_status()\n",
    "\n",
    "print(\"endpoint update request accepted. promotion process complete.\")"
   ]
  },
  {
   "cell_type": "code",
   "execution_count": 0,
   "metadata": {
    "application/vnd.databricks.v1+cell": {
     "cellMetadata": {},
     "inputWidgets": {},
     "nuid": "4be8046c-a3e6-42e2-8cec-6482230e6502",
     "showTitle": false,
     "tableResultSettingsMap": {},
     "title": ""
    }
   },
   "outputs": [],
   "source": []
  }
 ],
 "metadata": {
  "application/vnd.databricks.v1+notebook": {
   "computePreferences": null,
   "dashboards": [],
   "environmentMetadata": {
    "base_environment": "",
    "environment_version": "2"
   },
   "inputWidgetPreferences": null,
   "language": "python",
   "notebookMetadata": {
    "pythonIndentUnit": 4
   },
   "notebookName": "06_promote_challenger_to_champion",
   "widgets": {
    "registered_model_name": {
     "currentValue": "P300-Classifier",
     "nuid": "568dad95-65ca-4b54-bcd6-37267a5fa43d",
     "typedWidgetInfo": {
      "autoCreated": false,
      "defaultValue": "P300-Classifier",
      "label": "Workspace Registered Model Name",
      "name": "registered_model_name",
      "options": {
       "widgetDisplayType": "Text",
       "validationRegex": null
      },
      "parameterDataType": "String"
     },
     "widgetInfo": {
      "widgetType": "text",
      "defaultValue": "P300-Classifier",
      "label": "Workspace Registered Model Name",
      "name": "registered_model_name",
      "options": {
       "widgetType": "text",
       "autoCreated": null,
       "validationRegex": null
      }
     }
    },
    "serving_endpoint_name": {
     "currentValue": "p300",
     "nuid": "9cfc9ccc-1701-4481-9523-b8741d9ccecd",
     "typedWidgetInfo": {
      "autoCreated": false,
      "defaultValue": "p300",
      "label": "Name of the Serving Endpoint",
      "name": "serving_endpoint_name",
      "options": {
       "widgetDisplayType": "Text",
       "validationRegex": null
      },
      "parameterDataType": "String"
     },
     "widgetInfo": {
      "widgetType": "text",
      "defaultValue": "p300",
      "label": "Name of the Serving Endpoint",
      "name": "serving_endpoint_name",
      "options": {
       "widgetType": "text",
       "autoCreated": null,
       "validationRegex": null
      }
     }
    }
   }
  },
  "language_info": {
   "name": "python"
  }
 },
 "nbformat": 4,
 "nbformat_minor": 0
}
